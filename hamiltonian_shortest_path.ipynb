{
 "cells": [
  {
   "cell_type": "markdown",
   "metadata": {},
   "source": [
    "# Calculate Hamiltonian Shortest Path\n",
    "### Brute Force Approach\n",
    "### Steve Nilla"
   ]
  },
  {
   "cell_type": "code",
   "execution_count": 1,
   "metadata": {},
   "outputs": [],
   "source": [
    "import pandas as pd\n",
    "from IPython.display import display\n",
    "from itertools import permutations\n",
    "import numpy as np"
   ]
  },
  {
   "cell_type": "markdown",
   "metadata": {},
   "source": [
    "### Define the Map - Example Values Provided"
   ]
  },
  {
   "cell_type": "code",
   "execution_count": 2,
   "metadata": {},
   "outputs": [
    {
     "data": {
      "text/html": [
       "<div>\n",
       "<style scoped>\n",
       "    .dataframe tbody tr th:only-of-type {\n",
       "        vertical-align: middle;\n",
       "    }\n",
       "\n",
       "    .dataframe tbody tr th {\n",
       "        vertical-align: top;\n",
       "    }\n",
       "\n",
       "    .dataframe thead th {\n",
       "        text-align: right;\n",
       "    }\n",
       "</style>\n",
       "<table border=\"1\" class=\"dataframe\">\n",
       "  <thead>\n",
       "    <tr style=\"text-align: right;\">\n",
       "      <th></th>\n",
       "      <th>A</th>\n",
       "      <th>B</th>\n",
       "      <th>C</th>\n",
       "      <th>D</th>\n",
       "    </tr>\n",
       "  </thead>\n",
       "  <tbody>\n",
       "    <tr>\n",
       "      <th>A</th>\n",
       "      <td>NaN</td>\n",
       "      <td>1.0</td>\n",
       "      <td>1.0</td>\n",
       "      <td>2.0</td>\n",
       "    </tr>\n",
       "    <tr>\n",
       "      <th>B</th>\n",
       "      <td>NaN</td>\n",
       "      <td>NaN</td>\n",
       "      <td>3.0</td>\n",
       "      <td>5.0</td>\n",
       "    </tr>\n",
       "    <tr>\n",
       "      <th>C</th>\n",
       "      <td>NaN</td>\n",
       "      <td>NaN</td>\n",
       "      <td>NaN</td>\n",
       "      <td>8.0</td>\n",
       "    </tr>\n",
       "    <tr>\n",
       "      <th>D</th>\n",
       "      <td>NaN</td>\n",
       "      <td>NaN</td>\n",
       "      <td>NaN</td>\n",
       "      <td>NaN</td>\n",
       "    </tr>\n",
       "  </tbody>\n",
       "</table>\n",
       "</div>"
      ],
      "text/plain": [
       "    A    B    C    D\n",
       "A NaN  1.0  1.0  2.0\n",
       "B NaN  NaN  3.0  5.0\n",
       "C NaN  NaN  NaN  8.0\n",
       "D NaN  NaN  NaN  NaN"
      ]
     },
     "metadata": {},
     "output_type": "display_data"
    }
   ],
   "source": [
    "# define names of towns\n",
    "towns = ['A', 'B', 'C', 'D']\n",
    "\n",
    "# create a lookup table of the distances between each town\n",
    "# upper triangular matrix will cover all combinations\n",
    "nan = float(\"nan\")\n",
    "distances = {\n",
    "  'A' : [nan, nan,  nan,  nan], \n",
    "  'B' : [1,   nan,  nan,  nan], \n",
    "  'C' : [1,   3,    nan,  nan], \n",
    "  'D' : [2,   5,    8,    nan]\n",
    "  }\n",
    "distances_table = pd.DataFrame(distances, index=towns)\n",
    "display(distances_table)"
   ]
  },
  {
   "cell_type": "markdown",
   "metadata": {},
   "source": [
    "### Determine All Possible Routes"
   ]
  },
  {
   "cell_type": "code",
   "execution_count": 3,
   "metadata": {},
   "outputs": [],
   "source": [
    "# create all routes by permuting list of towns - len(towns)! total routes\n",
    "routes = list(permutations(towns))\n",
    "routes = [list(route) for route in routes]\n",
    "\n",
    "# append starting point to close loop - this makes it Hamiltonian\n",
    "for route in routes:\n",
    "  route.append(route[0])"
   ]
  },
  {
   "cell_type": "markdown",
   "metadata": {},
   "source": [
    "### Calculate Route Distances"
   ]
  },
  {
   "cell_type": "code",
   "execution_count": 4,
   "metadata": {},
   "outputs": [],
   "source": [
    "# match list of routes with list of distances (same index) \n",
    "route_distances = []\n",
    "for route in routes:\n",
    "\n",
    "  # calculate route distance\n",
    "  route_distance = 0\n",
    "  for town_no in range(len(route)-1):\n",
    "\n",
    "    # look up distance between each town\n",
    "    town_to_town_dist = distances_table.loc[route[town_no], route[town_no+1]]\n",
    "    \n",
    "    # reverse row/column if lookup falls on opposite side of triangular matrix\n",
    "    if np.isnan(town_to_town_dist):\n",
    "      town_to_town_dist = distances_table.loc[route[town_no+1], route[town_no]]\n",
    "    \n",
    "    # increment distance\n",
    "    route_distance += town_to_town_dist\n",
    "  \n",
    "  # save route\n",
    "  route_distances.append(route_distance)"
   ]
  },
  {
   "cell_type": "markdown",
   "metadata": {},
   "source": [
    "### Shortest Path Results"
   ]
  },
  {
   "cell_type": "code",
   "execution_count": 5,
   "metadata": {},
   "outputs": [
    {
     "name": "stdout",
     "output_type": "stream",
     "text": [
      "Shortest Path:\n",
      "A -> C -> B -> D -> A\n",
      "Distance:\n",
      "11.0\n"
     ]
    }
   ],
   "source": [
    "# get the index of the shortest distance in routes\n",
    "min_value = min(route_distances)\n",
    "min_index = route_distances.index(min_value)\n",
    "\n",
    "# display results\n",
    "print('Shortest Path:')\n",
    "print(*routes[min_index], sep=' -> ')\n",
    "print('Distance:')\n",
    "print(route_distances[min_index])"
   ]
  }
 ],
 "metadata": {
  "interpreter": {
   "hash": "7aabe3cba5f0b14e66750de350513a291f44acaf8400d1c25596e909a25e98a0"
  },
  "kernelspec": {
   "display_name": "Python 3.7.7 ('analysis')",
   "language": "python",
   "name": "python3"
  },
  "language_info": {
   "codemirror_mode": {
    "name": "ipython",
    "version": 3
   },
   "file_extension": ".py",
   "mimetype": "text/x-python",
   "name": "python",
   "nbconvert_exporter": "python",
   "pygments_lexer": "ipython3",
   "version": "3.7.7"
  },
  "orig_nbformat": 4
 },
 "nbformat": 4,
 "nbformat_minor": 2
}
